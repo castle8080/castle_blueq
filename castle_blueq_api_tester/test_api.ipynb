{
 "cells": [
  {
   "cell_type": "markdown",
   "id": "6491ef91-ff4b-4db1-a4e5-53820d7347b4",
   "metadata": {},
   "source": [
    "# Basic Interactive Tests for UI"
   ]
  },
  {
   "cell_type": "code",
   "execution_count": 1,
   "id": "3bb099b4-d86f-4dd7-a754-7872c4139737",
   "metadata": {},
   "outputs": [],
   "source": [
    "import requests\n",
    "import json\n",
    "from IPython.display import display, JSON, HTML"
   ]
  },
  {
   "cell_type": "code",
   "execution_count": 11,
   "id": "3478cd83-5403-4ad8-9103-5d92819a6cb2",
   "metadata": {},
   "outputs": [],
   "source": [
    "root_url = \"http://localhost:3000\""
   ]
  },
  {
   "cell_type": "code",
   "execution_count": 18,
   "id": "f13eaf6e-cca9-4cbf-afda-16003cdeb600",
   "metadata": {},
   "outputs": [
    {
     "data": {
      "application/json": {
       "_id": "6339047c83d1b148708d231d",
       "content": "You should see blah!",
       "source": "bob",
       "userId": "1"
      },
      "text/plain": [
       "<IPython.core.display.JSON object>"
      ]
     },
     "execution_count": 18,
     "metadata": {
      "application/json": {
       "expanded": false,
       "root": "root"
      }
     },
     "output_type": "execute_result"
    }
   ],
   "source": [
    "res = requests.post(f\"{root_url}/media_reccomendations\", json={\n",
    "    \"userId\": \"1\",\n",
    "    \"content\": \"You should see blah!\",\n",
    "    \"source\": \"bob\",\n",
    "})\n",
    "JSON(res.json())"
   ]
  },
  {
   "cell_type": "code",
   "execution_count": 19,
   "id": "21e42b2a-d532-4f90-b01f-3ecab5c04ab4",
   "metadata": {},
   "outputs": [
    {
     "data": {
      "application/json": [
       {
        "_id": "62c91204e64e88a84d97d90a",
        "content": "You should see blah!",
        "source": "bob",
        "userId": "1"
       },
       {
        "_id": "6339019bd121cb96af7e39f1",
        "content": "You should see blah!",
        "source": "bob",
        "userId": "1"
       },
       {
        "_id": "6339024626cc5a2365f75096",
        "content": "You should see blah!",
        "source": "bob",
        "userId": "1"
       },
       {
        "_id": "6339047c83d1b148708d231d",
        "content": "You should see blah!",
        "source": "bob",
        "userId": "1"
       }
      ],
      "text/plain": [
       "<IPython.core.display.JSON object>"
      ]
     },
     "execution_count": 19,
     "metadata": {
      "application/json": {
       "expanded": false,
       "root": "root"
      }
     },
     "output_type": "execute_result"
    }
   ],
   "source": [
    "res = requests.get(f\"{root_url}/media_reccomendations?userId=1\")\n",
    "JSON(res.json())"
   ]
  },
  {
   "cell_type": "code",
   "execution_count": null,
   "id": "dbbf5d4b-cc3c-4640-a3a5-69c2eed460c9",
   "metadata": {},
   "outputs": [],
   "source": []
  }
 ],
 "metadata": {
  "kernelspec": {
   "display_name": "Python 3 (ipykernel)",
   "language": "python",
   "name": "python3"
  },
  "language_info": {
   "codemirror_mode": {
    "name": "ipython",
    "version": 3
   },
   "file_extension": ".py",
   "mimetype": "text/x-python",
   "name": "python",
   "nbconvert_exporter": "python",
   "pygments_lexer": "ipython3",
   "version": "3.7.6"
  }
 },
 "nbformat": 4,
 "nbformat_minor": 5
}
