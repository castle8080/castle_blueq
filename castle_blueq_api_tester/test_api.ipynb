{
 "cells": [
  {
   "cell_type": "markdown",
   "id": "6491ef91-ff4b-4db1-a4e5-53820d7347b4",
   "metadata": {},
   "source": [
    "# Basic Interactive Tests for UI"
   ]
  },
  {
   "cell_type": "code",
   "execution_count": 17,
   "id": "3bb099b4-d86f-4dd7-a754-7872c4139737",
   "metadata": {},
   "outputs": [],
   "source": [
    "import requests\n",
    "import json\n",
    "from IPython.display import display, JSON, HTML"
   ]
  },
  {
   "cell_type": "code",
   "execution_count": 5,
   "id": "3478cd83-5403-4ad8-9103-5d92819a6cb2",
   "metadata": {},
   "outputs": [],
   "source": [
    "root_url = \"http://localhost:8080\""
   ]
  },
  {
   "cell_type": "code",
   "execution_count": 19,
   "id": "405bc6f2-33ab-4e9a-bcfb-6d015cd61af6",
   "metadata": {},
   "outputs": [
    {
     "data": {
      "text/plain": [
       "['JSONDecodeError',\n",
       " 'JSONDecoder',\n",
       " 'JSONEncoder',\n",
       " '__all__',\n",
       " '__author__',\n",
       " '__builtins__',\n",
       " '__cached__',\n",
       " '__doc__',\n",
       " '__file__',\n",
       " '__loader__',\n",
       " '__name__',\n",
       " '__package__',\n",
       " '__path__',\n",
       " '__spec__',\n",
       " '__version__',\n",
       " '_default_decoder',\n",
       " '_default_encoder',\n",
       " 'codecs',\n",
       " 'decoder',\n",
       " 'detect_encoding',\n",
       " 'dump',\n",
       " 'dumps',\n",
       " 'encoder',\n",
       " 'load',\n",
       " 'loads',\n",
       " 'scanner']"
      ]
     },
     "execution_count": 19,
     "metadata": {},
     "output_type": "execute_result"
    }
   ],
   "source": [
    "dir(json)"
   ]
  },
  {
   "cell_type": "code",
   "execution_count": 47,
   "id": "f13eaf6e-cca9-4cbf-afda-16003cdeb600",
   "metadata": {},
   "outputs": [
    {
     "data": {
      "application/json": {
       "_id": "62c91204e64e88a84d97d90a",
       "content": "You should see blah!",
       "source": "bob",
       "userId": "1"
      },
      "text/plain": [
       "<IPython.core.display.JSON object>"
      ]
     },
     "execution_count": 47,
     "metadata": {
      "application/json": {
       "expanded": false,
       "root": "root"
      }
     },
     "output_type": "execute_result"
    }
   ],
   "source": [
    "res = requests.post(f\"{root_url}/media_reccomendations\", json={\n",
    "    \"userId\": \"1\",\n",
    "    \"content\": \"You should see blah!\",\n",
    "    \"source\": \"bob\",\n",
    "})\n",
    "JSON(res.json())"
   ]
  },
  {
   "cell_type": "code",
   "execution_count": 55,
   "id": "21e42b2a-d532-4f90-b01f-3ecab5c04ab4",
   "metadata": {},
   "outputs": [
    {
     "data": {
      "application/json": [
       {
        "_id": "62c91204e64e88a84d97d90a",
        "content": "You should see blah!",
        "source": "bob",
        "userId": "1"
       }
      ],
      "text/plain": [
       "<IPython.core.display.JSON object>"
      ]
     },
     "execution_count": 55,
     "metadata": {
      "application/json": {
       "expanded": false,
       "root": "root"
      }
     },
     "output_type": "execute_result"
    }
   ],
   "source": [
    "res = requests.get(f\"{root_url}/media_reccomendations?userId=1\")\n",
    "JSON(res.json())"
   ]
  },
  {
   "cell_type": "code",
   "execution_count": 53,
   "id": "59c7e743-2254-40d7-85f0-08f371cd6675",
   "metadata": {},
   "outputs": [
    {
     "data": {
      "text/plain": [
       "<Response [404]>"
      ]
     },
     "execution_count": 53,
     "metadata": {},
     "output_type": "execute_result"
    }
   ],
   "source": [
    "res"
   ]
  },
  {
   "cell_type": "code",
   "execution_count": null,
   "id": "d309b9a9-1476-463b-9b2c-6bf1aca4d43b",
   "metadata": {},
   "outputs": [],
   "source": []
  }
 ],
 "metadata": {
  "kernelspec": {
   "display_name": "Python 3 (ipykernel)",
   "language": "python",
   "name": "python3"
  },
  "language_info": {
   "codemirror_mode": {
    "name": "ipython",
    "version": 3
   },
   "file_extension": ".py",
   "mimetype": "text/x-python",
   "name": "python",
   "nbconvert_exporter": "python",
   "pygments_lexer": "ipython3",
   "version": "3.7.6"
  }
 },
 "nbformat": 4,
 "nbformat_minor": 5
}
